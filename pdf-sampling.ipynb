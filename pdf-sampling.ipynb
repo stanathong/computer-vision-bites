{
 "cells": [
  {
   "cell_type": "markdown",
   "id": "b8f29fc1-28a0-4dfa-bed7-e3bbfebc1bb9",
   "metadata": {},
   "source": [
    "## Fine Sampling in Hierarchical Sampling"
   ]
  },
  {
   "cell_type": "code",
   "execution_count": 1,
   "id": "924ca922-ce43-482a-bb30-60651656e969",
   "metadata": {},
   "outputs": [],
   "source": [
    "import torch\n",
    "\n",
    "def sample_pdf(bins, weights, N_samples, det=False):\n",
    "    # Compute pdf / cdf\n",
    "    weights = weights + 1e-5 # Prevent nans\n",
    "    pdf = weights / torch.sum(weights, -1, keepdim=True)\n",
    "    cdf = torch.cumsum(pdf, -1)\n",
    "    # Add 0 at the beginning\n",
    "    cdf = torch.cat([torch.zeros_like(cdf[...,:1]), cdf], -1)  # (batch, len(bins))\n",
    "    \n",
    "    # Take uniform samples\n",
    "    if det: # Deterministic sampling\n",
    "        u = torch.linspace(0., 1., N_samples)\n",
    "        u = u.expand(list(cdf.shape[:-1]) + [N_samples])\n",
    "    else: # Random sampling\n",
    "        u = torch.rand(list(cdf.shape[:-1]) + [N_samples])\n",
    "    \n",
    "    # Invert CDF\n",
    "    u = u.contiguous()\n",
    "    # For each value of u, find the bin where the CDF value equals or exceeds u.\n",
    "    inds = torch.searchsorted(cdf, u, right=True)\n",
    "    below = torch.max(torch.zeros_like(inds-1), inds-1) # index below u\n",
    "    above = torch.clamp(inds, max=cdf.shape[-1] - 1) # index above u\n",
    "    inds_g = torch.stack([below, above], -1)  # (batch, N_samples, 2)\n",
    "    \n",
    "    #print('cdf.shape:',cdf.shape) # torch.Size([1, 9])\n",
    "    #print('bins.shape:',bins.shape) # torch.Size([1, 9])\n",
    "    #print('inds_g.shape:',inds_g.shape) # torch.Size([1, 20, 2])\n",
    "\n",
    "    # Get the values of cdf and bins at the specified indices e.g. inds_g\n",
    "    # cdf_g = torch.gather(cdf, -1, inds_g) # select at dim=-1\n",
    "    # bins_g = torch.gather(bins, -1, inds_g)\n",
    "    matched_shape = [inds_g.shape[0], inds_g.shape[1], cdf.shape[-1]]\n",
    "    cdf_g = torch.gather(cdf.unsqueeze(1).expand(matched_shape), 2, inds_g)\n",
    "    bins_g = torch.gather(bins.unsqueeze(1).expand(matched_shape), 2, inds_g)\n",
    "    \n",
    "    #print('cdf_g.shape:',cdf_g.shape) # [1, 20, 2])\n",
    "    #print('bins_g.shape:',bins_g.shape) # [1, 20, 2]\n",
    "    #print('cdf_g:',cdf_g)\n",
    "    #print('bins_g:',bins_g)\n",
    "    \n",
    "    # Interpolation\n",
    "    denom = (cdf_g[...,1] - cdf_g[...,0])\n",
    "    denom = torch.where(denom<1e-5, torch.ones_like(denom), denom)\n",
    "    t = (u - cdf_g[...,0]) / denom # multiplication factor for interpolation\n",
    "    samples = bins_g[..., 0] + t * (bins_g[..., 1] - bins_g[..., 0])\n",
    "\n",
    "    return samples"
   ]
  },
  {
   "cell_type": "code",
   "execution_count": 2,
   "id": "1ca1d537-dde1-43fc-a0b8-71f0c3a897b6",
   "metadata": {},
   "outputs": [],
   "source": [
    "# Example input: \n",
    "num_bins = 10 # uniform coarse sampling\n",
    "N_samples = 20 # number of fine samples\n",
    "det = True # deterministic sampling"
   ]
  },
  {
   "cell_type": "code",
   "execution_count": 3,
   "id": "5bd604f2-633e-4edf-a234-e5b8849afca2",
   "metadata": {},
   "outputs": [
    {
     "name": "stdout",
     "output_type": "stream",
     "text": [
      "torch.Size([1, 9])\n",
      "torch.Size([1, 8])\n"
     ]
    }
   ],
   "source": [
    "# Initialise bins and weights\n",
    "z = torch.linspace(0, 1, num_bins) # Shape: [10]\n",
    "w = torch.tensor([0.01, 0.02, 0.05, 0.2, 0.3, 0.5, 0.3, 0.1, 0.02, 0.01])\n",
    "\n",
    "# Use the middle points\n",
    "bins = 0.5 * (z[...,1:] + z[...,:-1])\n",
    "weights = w / w.sum() # Shape: [10]\n",
    "weights = weights[...,1:-1]\n",
    "\n",
    "# Add batch\n",
    "bins = bins.unsqueeze(0)\n",
    "weights = weights.unsqueeze(0)\n",
    "\n",
    "print(bins.shape) # torch.Size([1, 9])\n",
    "print(weights.shape) # torch.Size([1, 8])"
   ]
  },
  {
   "cell_type": "code",
   "execution_count": 4,
   "id": "0985a36e-86ed-44a0-bf52-0d85dbddc42f",
   "metadata": {},
   "outputs": [],
   "source": [
    "# Perform pdf sampling\n",
    "samples = sample_pdf(bins, weights, N_samples, det=True)\n",
    "samples = samples.squeeze(0)"
   ]
  },
  {
   "cell_type": "code",
   "execution_count": 5,
   "id": "c4848740-77f7-4df0-8083-b31b05d29903",
   "metadata": {},
   "outputs": [
    {
     "name": "stdout",
     "output_type": "stream",
     "text": [
      "z: torch.Size([10]) tensor([0.0000, 0.1111, 0.2222, 0.3333, 0.4444, 0.5556, 0.6667, 0.7778, 0.8889,\n",
      "        1.0000])\n",
      "w: torch.Size([10]) tensor([0.0100, 0.0200, 0.0500, 0.2000, 0.3000, 0.5000, 0.3000, 0.1000, 0.0200,\n",
      "        0.0100])\n",
      "samples: torch.Size([20]) tensor([0.0556, 0.2824, 0.3260, 0.3696, 0.4051, 0.4341, 0.4632, 0.4922, 0.5127,\n",
      "        0.5302, 0.5476, 0.5650, 0.5825, 0.5999, 0.6214, 0.6505, 0.6795, 0.7086,\n",
      "        0.7684, 0.9444])\n"
     ]
    }
   ],
   "source": [
    "print('z:',z.shape,z)\n",
    "print('w:',w.shape,w)\n",
    "print('samples:',samples.shape,samples)"
   ]
  },
  {
   "cell_type": "code",
   "execution_count": 6,
   "id": "486b9645-481b-46ee-9456-c44a0027ac56",
   "metadata": {},
   "outputs": [
    {
     "data": {
      "image/png": "[encoded data removed]",
      "text/plain": [
       "<Figure size 1000x600 with 1 Axes>"
      ]
     },
     "metadata": {},
     "output_type": "display_data"
    }
   ],
   "source": [
    "import numpy as np\n",
    "import matplotlib.pyplot as plt\n",
    "\n",
    "# Plot the PDF and sampled points\n",
    "plt.figure(figsize=(10,6))\n",
    "plt.bar(z, w.numpy(), width=0.1, alpha=0.5, label=\"PDF (weights)\")\n",
    "# Add sampled points to the plot\n",
    "plt.hist(samples.numpy(), bins=z.numpy(), density=True, alpha=0.5, color='green', label='Sampled Points')\n",
    "plt.xlabel('Bins')\n",
    "plt.ylabel('Probability')\n",
    "plt.title('PDS Sampling Visualizaton')\n",
    "plt.legend()\n",
    "plt.show()"
   ]
  },
  {
   "cell_type": "markdown",
   "id": "83752b77-df7c-46fc-8bac-58bb44247430",
   "metadata": {},
   "source": [
    "### Output:\n",
    "\n",
    "* The blue PDF bar plot represents the pdf or weights for each bin.\n",
    "* The green histogram represented the sampled points. The higher the bars represents the higher number of points got sampling at that region along the ray. "
   ]
  },
  {
   "cell_type": "code",
   "execution_count": null,
   "id": "54947451-a440-4411-a8c0-bd73c3cc15e0",
   "metadata": {},
   "outputs": [],
   "source": []
  }
 ],
 "metadata": {
  "kernelspec": {
   "display_name": "Python 3 (ipykernel)",
   "language": "python",
   "name": "python3"
  },
  "language_info": {
   "codemirror_mode": {
    "name": "ipython",
    "version": 3
   },
   "file_extension": ".py",
   "mimetype": "text/x-python",
   "name": "python",
   "nbconvert_exporter": "python",
   "pygments_lexer": "ipython3",
   "version": "3.11.10"
  }
 },
 "nbformat": 4,
 "nbformat_minor": 5
}
